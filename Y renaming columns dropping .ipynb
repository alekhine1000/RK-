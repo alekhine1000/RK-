{
 "cells": [
  {
   "cell_type": "code",
   "execution_count": 46,
   "id": "bc723c7f-55f4-435e-96da-887c071c417d",
   "metadata": {},
   "outputs": [],
   "source": [
    "import pandas as pd\n",
    "\n"
   ]
  },
  {
   "cell_type": "code",
   "execution_count": 48,
   "id": "abfc0f38-022a-452a-827a-b55638e470e1",
   "metadata": {},
   "outputs": [],
   "source": [
    "import pandas as pd\n",
    "\n",
    "# =========================================\n",
    "# 1. Load CSV and show dimensions & columns\n",
    "# =========================================\n",
    "\n",
    "input_file_path = \"cleaned_dataset.csv\"\n",
    "df = pd.read_csv(input_file_path)"
   ]
  },
  {
   "cell_type": "code",
   "execution_count": 50,
   "id": "ccff3946-018f-4b26-9a82-c0d70648a4fc",
   "metadata": {},
   "outputs": [
    {
     "name": "stdout",
     "output_type": "stream",
     "text": [
      "DataFrame shape (rows, columns): (1599, 18)\n"
     ]
    }
   ],
   "source": [
    "# Show the number of rows and columns\n",
    "print(\"DataFrame shape (rows, columns):\", df.shape)\n"
   ]
  },
  {
   "cell_type": "code",
   "execution_count": 52,
   "id": "82703413-d15d-4aca-ba94-42a0f8eefed2",
   "metadata": {},
   "outputs": [
    {
     "name": "stdout",
     "output_type": "stream",
     "text": [
      "\n",
      "Numeric columns: ['quality', 'fixed acidity_original', 'volatile acidity', 'citric acid', 'residual sugar_original', 'chlorides', 'free sulfur dioxide_original', 'total sulfur dioxide_original', 'density', 'pH', 'sulphates_original', 'alcohol_original', 'fixed acidity_transformed', 'residual sugar_transformed', 'free sulfur dioxide_transformed', 'total sulfur dioxide_transformed', 'sulphates_transformed', 'alcohol_transformed']\n",
      "Categorical columns: []\n"
     ]
    }
   ],
   "source": [
    "# 2. Identify numeric vs. categorical columns\n",
    "# =========================================\n",
    "\n",
    "# Numeric columns (integers, floats, etc.)\n",
    "numeric_columns = df.select_dtypes(include=[\"number\"]).columns.tolist()\n",
    "\n",
    "# Categorical columns (usually object/string type)\n",
    "categorical_columns = df.select_dtypes(include=[\"object\"]).columns.tolist()\n",
    "\n",
    "print(\"\\nNumeric columns:\", numeric_columns)\n",
    "print(\"Categorical columns:\", categorical_columns)\n"
   ]
  },
  {
   "cell_type": "code",
   "execution_count": 54,
   "id": "21b3886f-dbe1-4110-bfc7-f84d45d08496",
   "metadata": {},
   "outputs": [
    {
     "name": "stdout",
     "output_type": "stream",
     "text": [
      "\n",
      "List of columns:\n",
      "['quality', 'fixed acidity_original', 'volatile acidity', 'citric acid', 'residual sugar_original', 'chlorides', 'free sulfur dioxide_original', 'total sulfur dioxide_original', 'density', 'pH', 'sulphates_original', 'alcohol_original', 'fixed acidity_transformed', 'residual sugar_transformed', 'free sulfur dioxide_transformed', 'total sulfur dioxide_transformed', 'sulphates_transformed', 'alcohol_transformed']\n"
     ]
    }
   ],
   "source": [
    "# Show the full list of columns\n",
    "print(\"\\nList of columns:\")\n",
    "all_columns = df.columns.tolist()\n",
    "print(all_columns)"
   ]
  },
  {
   "cell_type": "code",
   "execution_count": null,
   "id": "c279baee-039e-4924-b637-b535cd873e3d",
   "metadata": {},
   "outputs": [],
   "source": [
    "List of columns:\n",
    "['fixed acidity_original',  'residual sugar_original', 'free sulfur dioxide_original', 'total sulfur dioxide_original',  'sulphates_original', 'alcohol_original', "
   ]
  },
  {
   "cell_type": "code",
   "execution_count": 56,
   "id": "5537dec1-061d-4ed5-be56-9503350d742f",
   "metadata": {},
   "outputs": [],
   "source": [
    "# =========================================\n",
    "# 3. Drop unwanted columns (customize as needed)\n",
    "# =========================================\n",
    "\n",
    "# For example, if you want to remove columns named \"ColumnA\" and \"ColumnB\":\n",
    "#columns_to_drop = [\"ColumnA\", \"ColumnB\"]\n",
    "columns_to_drop = [ \"fixed acidity_original\",  \"residual sugar_original\", \"free sulfur dioxide_original\", \"total sulfur dioxide_original\",  \"sulphates_original\", \"alcohol_original\"] \n",
    "df.drop(columns=columns_to_drop, inplace=True, errors=\"ignore\")\n"
   ]
  },
  {
   "cell_type": "code",
   "execution_count": 36,
   "id": "c2f6b91c-7171-4e5b-ae77-e4f67b4fcdeb",
   "metadata": {},
   "outputs": [],
   "source": [
    "# =========================================\n",
    "# 4. Rename columns (customize as needed)\n",
    "# =========================================\n",
    "\n",
    "# Format: {\"OldColumnName\": \"NewColumnName\", ...}\n",
    "#columns_to_rename = {\n",
    "#    \"OldName1\": \"NewName1\",\n",
    " #   \"OldName2\": \"NewName2\""
   ]
  },
  {
   "cell_type": "code",
   "execution_count": 58,
   "id": "415c3ee3-f5ef-4a9b-84c5-63f11c032aa4",
   "metadata": {},
   "outputs": [
    {
     "name": "stdout",
     "output_type": "stream",
     "text": [
      "\n",
      "Processing complete. The updated file has been saved to: your_output_file.csv\n"
     ]
    }
   ],
   "source": [
    "# =========================================\n",
    "# 5. Save the modified DataFrame\n",
    "# =========================================\n",
    "\n",
    "output_file_path = \"your_output_file.csv\"\n",
    "df.to_csv(output_file_path, index=False)\n",
    "\n",
    "print(\"\\nProcessing complete. The updated file has been saved to:\", output_file_path)"
   ]
  },
  {
   "cell_type": "code",
   "execution_count": null,
   "id": "0743140c-6a1b-46a4-9871-c5ddf91ea495",
   "metadata": {},
   "outputs": [],
   "source": []
  }
 ],
 "metadata": {
  "kernelspec": {
   "display_name": "Python [conda env:base] *",
   "language": "python",
   "name": "conda-base-py"
  },
  "language_info": {
   "codemirror_mode": {
    "name": "ipython",
    "version": 3
   },
   "file_extension": ".py",
   "mimetype": "text/x-python",
   "name": "python",
   "nbconvert_exporter": "python",
   "pygments_lexer": "ipython3",
   "version": "3.12.4"
  }
 },
 "nbformat": 4,
 "nbformat_minor": 5
}
